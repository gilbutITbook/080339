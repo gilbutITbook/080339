{
 "cells": [
  {
   "cell_type": "code",
   "execution_count": 1,
   "metadata": {},
   "outputs": [
    {
     "name": "stdout",
     "output_type": "stream",
     "text": [
      "Requirement already satisfied: pandas==1.3.4 in c:\\users\\it\\anaconda3\\lib\\site-packages (1.3.4)\n",
      "Requirement already satisfied: numpy>=1.17.3 in c:\\users\\it\\anaconda3\\lib\\site-packages (from pandas==1.3.4) (1.21.5)\n",
      "Requirement already satisfied: pytz>=2017.3 in c:\\users\\it\\anaconda3\\lib\\site-packages (from pandas==1.3.4) (2021.3)\n",
      "Requirement already satisfied: python-dateutil>=2.7.3 in c:\\users\\it\\anaconda3\\lib\\site-packages (from pandas==1.3.4) (2.8.2)\n",
      "Requirement already satisfied: six>=1.5 in c:\\users\\it\\anaconda3\\lib\\site-packages (from python-dateutil>=2.7.3->pandas==1.3.4) (1.16.0)\n"
     ]
    }
   ],
   "source": [
    "# 라이브러리 버전을 맞춥니다.\n",
    "!pip install pandas==1.3.4"
   ]
  },
  {
   "cell_type": "code",
   "execution_count": 2,
   "metadata": {},
   "outputs": [
    {
     "name": "stdout",
     "output_type": "stream",
     "text": [
      "판다스 버전 : 1.3.4\n"
     ]
    }
   ],
   "source": [
    "# 버전 확인용\n",
    "import pandas as pd\n",
    "\n",
    "print(\"판다스 버전 :\", pd.__version__)"
   ]
  },
  {
   "cell_type": "code",
   "execution_count": 3,
   "metadata": {
    "colab": {
     "base_uri": "https://localhost:8080/"
    },
    "executionInfo": {
     "elapsed": 5345,
     "status": "ok",
     "timestamp": 1698298870966,
     "user": {
      "displayName": "안윤경",
      "userId": "08326209251813559422"
     },
     "user_tz": -540
    },
    "id": "MWyaJb4BQzuG",
    "outputId": "5171d8fe-6a00-41ff-eeb2-e1abfdd75b40"
   },
   "outputs": [
    {
     "name": "stderr",
     "output_type": "stream",
     "text": [
      "C:\\Users\\it\\AppData\\Local\\Temp\\ipykernel_19308\\2995353899.py:12: DeprecationWarning: `set_matplotlib_formats` is deprecated since IPython 7.23, directly use `matplotlib_inline.backend_inline.set_matplotlib_formats()`\n",
      "  set_matplotlib_formats('retina')\n"
     ]
    }
   ],
   "source": [
    "import pandas as pd\n",
    "\n",
    "# 시각화 툴\n",
    "import matplotlib.pyplot as plt\n",
    "%matplotlib inline\n",
    "\n",
    "# 한글이 출력되도록 설정합니다.\n",
    "plt.rc('font', family='Malgun Gothic')\n",
    "\n",
    "# 선명한 그래픽\n",
    "from IPython.display import set_matplotlib_formats\n",
    "set_matplotlib_formats('retina')"
   ]
  },
  {
   "cell_type": "code",
   "execution_count": 4,
   "metadata": {
    "colab": {
     "base_uri": "https://localhost:8080/",
     "height": 129
    },
    "executionInfo": {
     "elapsed": 47401,
     "status": "ok",
     "timestamp": 1698298920449,
     "user": {
      "displayName": "안윤경",
      "userId": "08326209251813559422"
     },
     "user_tz": -540
    },
    "id": "eOVhpOgLQ9q6",
    "outputId": "5b6d0f24-f9b7-42b2-b6a1-1cfeb3af5910"
   },
   "outputs": [
    {
     "data": {
      "text/html": [
       "<div>\n",
       "<style scoped>\n",
       "    .dataframe tbody tr th:only-of-type {\n",
       "        vertical-align: middle;\n",
       "    }\n",
       "\n",
       "    .dataframe tbody tr th {\n",
       "        vertical-align: top;\n",
       "    }\n",
       "\n",
       "    .dataframe thead th {\n",
       "        text-align: right;\n",
       "    }\n",
       "</style>\n",
       "<table border=\"1\" class=\"dataframe\">\n",
       "  <thead>\n",
       "    <tr style=\"text-align: right;\">\n",
       "      <th></th>\n",
       "      <th>기준년도</th>\n",
       "      <th>가입자 일련번호</th>\n",
       "      <th>진료내역일련번호</th>\n",
       "      <th>성별코드</th>\n",
       "      <th>연령대코드</th>\n",
       "      <th>시도코드</th>\n",
       "      <th>요양개시일자</th>\n",
       "      <th>서식코드</th>\n",
       "      <th>진료과목코드</th>\n",
       "      <th>주상병코드</th>\n",
       "      <th>부상병코드</th>\n",
       "      <th>요양일수</th>\n",
       "      <th>입내원일수</th>\n",
       "      <th>심결가산율</th>\n",
       "      <th>심결요양급여비용총액</th>\n",
       "      <th>심결본인부담금</th>\n",
       "      <th>심결보험자부담금</th>\n",
       "      <th>총처방일수</th>\n",
       "      <th>데이터 기준일자</th>\n",
       "    </tr>\n",
       "  </thead>\n",
       "  <tbody>\n",
       "    <tr>\n",
       "      <th>0</th>\n",
       "      <td>2020</td>\n",
       "      <td>29</td>\n",
       "      <td>3724043</td>\n",
       "      <td>1</td>\n",
       "      <td>17</td>\n",
       "      <td>41</td>\n",
       "      <td>2020-12-21</td>\n",
       "      <td>3</td>\n",
       "      <td>1</td>\n",
       "      <td>I109</td>\n",
       "      <td>E785</td>\n",
       "      <td>1</td>\n",
       "      <td>1</td>\n",
       "      <td>0.15</td>\n",
       "      <td>11540</td>\n",
       "      <td>1500</td>\n",
       "      <td>10040</td>\n",
       "      <td>0</td>\n",
       "      <td>2021-12-28</td>\n",
       "    </tr>\n",
       "    <tr>\n",
       "      <th>1</th>\n",
       "      <td>2020</td>\n",
       "      <td>29</td>\n",
       "      <td>3495225</td>\n",
       "      <td>1</td>\n",
       "      <td>17</td>\n",
       "      <td>41</td>\n",
       "      <td>2020-12-14</td>\n",
       "      <td>3</td>\n",
       "      <td>1</td>\n",
       "      <td>I109</td>\n",
       "      <td>E785</td>\n",
       "      <td>1</td>\n",
       "      <td>1</td>\n",
       "      <td>0.15</td>\n",
       "      <td>11540</td>\n",
       "      <td>1500</td>\n",
       "      <td>10040</td>\n",
       "      <td>7</td>\n",
       "      <td>2021-12-28</td>\n",
       "    </tr>\n",
       "  </tbody>\n",
       "</table>\n",
       "</div>"
      ],
      "text/plain": [
       "   기준년도  가입자 일련번호  진료내역일련번호  성별코드  연령대코드  시도코드      요양개시일자  서식코드  진료과목코드  \\\n",
       "0  2020        29   3724043     1     17    41  2020-12-21     3       1   \n",
       "1  2020        29   3495225     1     17    41  2020-12-14     3       1   \n",
       "\n",
       "  주상병코드 부상병코드  요양일수  입내원일수  심결가산율  심결요양급여비용총액  심결본인부담금  심결보험자부담금  총처방일수  \\\n",
       "0  I109  E785     1      1   0.15       11540     1500     10040      0   \n",
       "1  I109  E785     1      1   0.15       11540     1500     10040      7   \n",
       "\n",
       "     데이터 기준일자  \n",
       "0  2021-12-28  \n",
       "1  2021-12-28  "
      ]
     },
     "execution_count": 4,
     "metadata": {},
     "output_type": "execute_result"
    }
   ],
   "source": [
    "# 경기도 진료내역정보 파일 불러오기\n",
    "filepath = './data'\n",
    "doctor_data_1 = pd.read_csv(filepath + \"/HP_T20_2020_1.CSV\", encoding='cp949')  # ①\n",
    "doctor_data_2 = pd.read_csv(filepath + \"/HP_T20_2020_2.CSV\", encoding='cp949')\n",
    "doctor_data_3 = pd.read_csv(filepath + \"/HP_T20_2020_3.CSV\", encoding='cp949')\n",
    "\n",
    "doctor_data_1.head(2)"
   ]
  },
  {
   "cell_type": "code",
   "execution_count": 5,
   "metadata": {
    "colab": {
     "base_uri": "https://localhost:8080/",
     "height": 131
    },
    "executionInfo": {
     "elapsed": 7113,
     "status": "ok",
     "timestamp": 1698298932359,
     "user": {
      "displayName": "안윤경",
      "userId": "08326209251813559422"
     },
     "user_tz": -540
    },
    "id": "xnGyrUezREH3",
    "outputId": "56f2ab18-2c7d-4953-9abf-52a733433ee6"
   },
   "outputs": [
    {
     "name": "stdout",
     "output_type": "stream",
     "text": [
      "2020년 진료행위 총 : 11727248 회\n"
     ]
    },
    {
     "data": {
      "text/html": [
       "<div>\n",
       "<style scoped>\n",
       "    .dataframe tbody tr th:only-of-type {\n",
       "        vertical-align: middle;\n",
       "    }\n",
       "\n",
       "    .dataframe tbody tr th {\n",
       "        vertical-align: top;\n",
       "    }\n",
       "\n",
       "    .dataframe thead th {\n",
       "        text-align: right;\n",
       "    }\n",
       "</style>\n",
       "<table border=\"1\" class=\"dataframe\">\n",
       "  <thead>\n",
       "    <tr style=\"text-align: right;\">\n",
       "      <th></th>\n",
       "      <th>성별코드</th>\n",
       "      <th>연령대코드</th>\n",
       "      <th>진료과목코드</th>\n",
       "      <th>주상병코드</th>\n",
       "      <th>부상병코드</th>\n",
       "    </tr>\n",
       "  </thead>\n",
       "  <tbody>\n",
       "    <tr>\n",
       "      <th>0</th>\n",
       "      <td>1</td>\n",
       "      <td>17</td>\n",
       "      <td>1</td>\n",
       "      <td>I109</td>\n",
       "      <td>E785</td>\n",
       "    </tr>\n",
       "    <tr>\n",
       "      <th>1</th>\n",
       "      <td>1</td>\n",
       "      <td>17</td>\n",
       "      <td>1</td>\n",
       "      <td>I109</td>\n",
       "      <td>E785</td>\n",
       "    </tr>\n",
       "  </tbody>\n",
       "</table>\n",
       "</div>"
      ],
      "text/plain": [
       "   성별코드  연령대코드  진료과목코드 주상병코드 부상병코드\n",
       "0     1     17       1  I109  E785\n",
       "1     1     17       1  I109  E785"
      ]
     },
     "execution_count": 5,
     "metadata": {},
     "output_type": "execute_result"
    }
   ],
   "source": [
    "doctor_data = pd.concat([doctor_data_1, doctor_data_2, doctor_data_3]) #①\n",
    "target_cols = ['성별코드','연령대코드','진료과목코드','주상병코드','부상병코드']\n",
    "doctor_data_short = doctor_data[target_cols] #②\n",
    "\n",
    "print(\"2020년 진료행위 총 :\",doctor_data_short.shape[0], \"회\") #③\n",
    "doctor_data_short.head(2)"
   ]
  },
  {
   "cell_type": "code",
   "execution_count": 6,
   "metadata": {
    "executionInfo": {
     "elapsed": 719,
     "status": "ok",
     "timestamp": 1698298940068,
     "user": {
      "displayName": "안윤경",
      "userId": "08326209251813559422"
     },
     "user_tz": -540
    },
    "id": "MjAab3yARVgm"
   },
   "outputs": [],
   "source": [
    "# 진료과목코드정보 파일 불러오기\n",
    "# 앞에서 드라이브 경로를 설정(본인의 환경에 맞게 수정)했으므로 data 폴더 경로는 추가하지 않습니다.\n",
    "\n",
    "treat_code = pd.read_excel(filepath + \"/진료과목코드정보.xlsx\")"
   ]
  },
  {
   "cell_type": "code",
   "execution_count": 7,
   "metadata": {
    "executionInfo": {
     "elapsed": 443,
     "status": "ok",
     "timestamp": 1698298942145,
     "user": {
      "displayName": "안윤경",
      "userId": "08326209251813559422"
     },
     "user_tz": -540
    },
    "id": "DEHZpS23FN0J"
   },
   "outputs": [],
   "source": [
    "treat_code.dropna(inplace=True)"
   ]
  },
  {
   "cell_type": "code",
   "execution_count": 8,
   "metadata": {
    "colab": {
     "base_uri": "https://localhost:8080/",
     "height": 112
    },
    "executionInfo": {
     "elapsed": 4,
     "status": "ok",
     "timestamp": 1698298943511,
     "user": {
      "displayName": "안윤경",
      "userId": "08326209251813559422"
     },
     "user_tz": -540
    },
    "id": "LfCxqViyUII5",
    "outputId": "c8814cb6-8a88-427e-edd8-08b68f3c49b3"
   },
   "outputs": [
    {
     "data": {
      "text/html": [
       "<div>\n",
       "<style scoped>\n",
       "    .dataframe tbody tr th:only-of-type {\n",
       "        vertical-align: middle;\n",
       "    }\n",
       "\n",
       "    .dataframe tbody tr th {\n",
       "        vertical-align: top;\n",
       "    }\n",
       "\n",
       "    .dataframe thead th {\n",
       "        text-align: right;\n",
       "    }\n",
       "</style>\n",
       "<table border=\"1\" class=\"dataframe\">\n",
       "  <thead>\n",
       "    <tr style=\"text-align: right;\">\n",
       "      <th></th>\n",
       "      <th>코드구분</th>\n",
       "      <th>설명</th>\n",
       "      <th>코드</th>\n",
       "      <th>명칭</th>\n",
       "    </tr>\n",
       "  </thead>\n",
       "  <tbody>\n",
       "    <tr>\n",
       "      <th>0</th>\n",
       "      <td>진료과목코드</td>\n",
       "      <td>분석차원_진료과목코드</td>\n",
       "      <td>0</td>\n",
       "      <td>일반의</td>\n",
       "    </tr>\n",
       "    <tr>\n",
       "      <th>1</th>\n",
       "      <td>진료과목코드</td>\n",
       "      <td>분석차원_진료과목코드</td>\n",
       "      <td>1</td>\n",
       "      <td>내과</td>\n",
       "    </tr>\n",
       "  </tbody>\n",
       "</table>\n",
       "</div>"
      ],
      "text/plain": [
       "     코드구분           설명  코드   명칭\n",
       "0  진료과목코드  분석차원_진료과목코드   0  일반의\n",
       "1  진료과목코드  분석차원_진료과목코드   1   내과"
      ]
     },
     "execution_count": 8,
     "metadata": {},
     "output_type": "execute_result"
    }
   ],
   "source": [
    "treat_code.head(2)"
   ]
  },
  {
   "cell_type": "code",
   "execution_count": 9,
   "metadata": {
    "executionInfo": {
     "elapsed": 2,
     "status": "ok",
     "timestamp": 1698298946027,
     "user": {
      "displayName": "안윤경",
      "userId": "08326209251813559422"
     },
     "user_tz": -540
    },
    "id": "2rEUPSNOVBt6"
   },
   "outputs": [],
   "source": [
    "treat_code = treat_code[['코드','명칭']]"
   ]
  },
  {
   "cell_type": "code",
   "execution_count": 10,
   "metadata": {
    "executionInfo": {
     "elapsed": 727,
     "status": "ok",
     "timestamp": 1698298948755,
     "user": {
      "displayName": "안윤경",
      "userId": "08326209251813559422"
     },
     "user_tz": -540
    },
    "id": "uWVO6-loVXjv"
   },
   "outputs": [],
   "source": [
    "treat_code.rename(columns={'코드':'진료과목코드_str', \"명칭\":\"진료과목\"}, inplace=True)"
   ]
  },
  {
   "cell_type": "code",
   "execution_count": 11,
   "metadata": {
    "colab": {
     "base_uri": "https://localhost:8080/",
     "height": 143
    },
    "executionInfo": {
     "elapsed": 499,
     "status": "ok",
     "timestamp": 1698298950466,
     "user": {
      "displayName": "안윤경",
      "userId": "08326209251813559422"
     },
     "user_tz": -540
    },
    "id": "C4_xG2dCVo1s",
    "outputId": "5af551f9-3cad-49b4-ac1f-4490d9e7afde"
   },
   "outputs": [
    {
     "data": {
      "text/html": [
       "<div>\n",
       "<style scoped>\n",
       "    .dataframe tbody tr th:only-of-type {\n",
       "        vertical-align: middle;\n",
       "    }\n",
       "\n",
       "    .dataframe tbody tr th {\n",
       "        vertical-align: top;\n",
       "    }\n",
       "\n",
       "    .dataframe thead th {\n",
       "        text-align: right;\n",
       "    }\n",
       "</style>\n",
       "<table border=\"1\" class=\"dataframe\">\n",
       "  <thead>\n",
       "    <tr style=\"text-align: right;\">\n",
       "      <th></th>\n",
       "      <th>진료과목코드_str</th>\n",
       "      <th>진료과목</th>\n",
       "    </tr>\n",
       "  </thead>\n",
       "  <tbody>\n",
       "    <tr>\n",
       "      <th>0</th>\n",
       "      <td>0</td>\n",
       "      <td>일반의</td>\n",
       "    </tr>\n",
       "    <tr>\n",
       "      <th>1</th>\n",
       "      <td>1</td>\n",
       "      <td>내과</td>\n",
       "    </tr>\n",
       "    <tr>\n",
       "      <th>2</th>\n",
       "      <td>2</td>\n",
       "      <td>신경과</td>\n",
       "    </tr>\n",
       "  </tbody>\n",
       "</table>\n",
       "</div>"
      ],
      "text/plain": [
       "   진료과목코드_str 진료과목\n",
       "0           0  일반의\n",
       "1           1   내과\n",
       "2           2  신경과"
      ]
     },
     "execution_count": 11,
     "metadata": {},
     "output_type": "execute_result"
    }
   ],
   "source": [
    "treat_code.head(3)"
   ]
  },
  {
   "cell_type": "code",
   "execution_count": 12,
   "metadata": {
    "colab": {
     "base_uri": "https://localhost:8080/"
    },
    "executionInfo": {
     "elapsed": 2,
     "status": "ok",
     "timestamp": 1698298952152,
     "user": {
      "displayName": "안윤경",
      "userId": "08326209251813559422"
     },
     "user_tz": -540
    },
    "id": "wnshbCuNFh8E",
    "outputId": "d0157b5e-7e4f-411a-ddb0-7369ccb46a8d"
   },
   "outputs": [
    {
     "name": "stdout",
     "output_type": "stream",
     "text": [
      "zfill()에 2로 지정하면  01\n",
      "zfill()에 3로 지정하면  001\n"
     ]
    }
   ],
   "source": [
    "code = '1'\n",
    "print(\"zfill()에 2로 지정하면 \",code.zfill(2))\n",
    "print(\"zfill()에 3로 지정하면 \",code.zfill(3))"
   ]
  },
  {
   "cell_type": "code",
   "execution_count": 13,
   "metadata": {
    "executionInfo": {
     "elapsed": 1,
     "status": "ok",
     "timestamp": 1698298954385,
     "user": {
      "displayName": "안윤경",
      "userId": "08326209251813559422"
     },
     "user_tz": -540
    },
    "id": "eQTpMvQRVvge"
   },
   "outputs": [],
   "source": [
    "treat_code['진료과목코드_str'] = treat_code['진료과목코드_str'].apply(lambda x:str(x).zfill(2))"
   ]
  },
  {
   "cell_type": "code",
   "execution_count": 14,
   "metadata": {
    "colab": {
     "base_uri": "https://localhost:8080/",
     "height": 143
    },
    "executionInfo": {
     "elapsed": 512,
     "status": "ok",
     "timestamp": 1698298956254,
     "user": {
      "displayName": "안윤경",
      "userId": "08326209251813559422"
     },
     "user_tz": -540
    },
    "id": "LE-WV8RiWDTq",
    "outputId": "e16cdc26-35b9-49c1-c9ae-37f40f94b40c"
   },
   "outputs": [
    {
     "data": {
      "text/html": [
       "<div>\n",
       "<style scoped>\n",
       "    .dataframe tbody tr th:only-of-type {\n",
       "        vertical-align: middle;\n",
       "    }\n",
       "\n",
       "    .dataframe tbody tr th {\n",
       "        vertical-align: top;\n",
       "    }\n",
       "\n",
       "    .dataframe thead th {\n",
       "        text-align: right;\n",
       "    }\n",
       "</style>\n",
       "<table border=\"1\" class=\"dataframe\">\n",
       "  <thead>\n",
       "    <tr style=\"text-align: right;\">\n",
       "      <th></th>\n",
       "      <th>진료과목코드_str</th>\n",
       "      <th>진료과목</th>\n",
       "    </tr>\n",
       "  </thead>\n",
       "  <tbody>\n",
       "    <tr>\n",
       "      <th>0</th>\n",
       "      <td>00</td>\n",
       "      <td>일반의</td>\n",
       "    </tr>\n",
       "    <tr>\n",
       "      <th>1</th>\n",
       "      <td>01</td>\n",
       "      <td>내과</td>\n",
       "    </tr>\n",
       "    <tr>\n",
       "      <th>2</th>\n",
       "      <td>02</td>\n",
       "      <td>신경과</td>\n",
       "    </tr>\n",
       "  </tbody>\n",
       "</table>\n",
       "</div>"
      ],
      "text/plain": [
       "  진료과목코드_str 진료과목\n",
       "0         00  일반의\n",
       "1         01   내과\n",
       "2         02  신경과"
      ]
     },
     "execution_count": 14,
     "metadata": {},
     "output_type": "execute_result"
    }
   ],
   "source": [
    "treat_code.head(3)"
   ]
  },
  {
   "cell_type": "code",
   "execution_count": 15,
   "metadata": {
    "colab": {
     "base_uri": "https://localhost:8080/"
    },
    "executionInfo": {
     "elapsed": 7523,
     "status": "ok",
     "timestamp": 1698298965620,
     "user": {
      "displayName": "안윤경",
      "userId": "08326209251813559422"
     },
     "user_tz": -540
    },
    "id": "33LuZA4MWFT6",
    "outputId": "2dd9ada9-7df6-4bc7-b94c-c6f656983f09"
   },
   "outputs": [
    {
     "name": "stderr",
     "output_type": "stream",
     "text": [
      "C:\\Users\\it\\AppData\\Local\\Temp\\ipykernel_19308\\1936607963.py:1: SettingWithCopyWarning: \n",
      "A value is trying to be set on a copy of a slice from a DataFrame.\n",
      "Try using .loc[row_indexer,col_indexer] = value instead\n",
      "\n",
      "See the caveats in the documentation: https://pandas.pydata.org/pandas-docs/stable/user_guide/indexing.html#returning-a-view-versus-a-copy\n",
      "  doctor_data_short['진료과목코드_str']=doctor_data_short['진료과목코드'].apply(lambda x:str(x).zfill(2))\n"
     ]
    }
   ],
   "source": [
    "doctor_data_short['진료과목코드_str']=doctor_data_short['진료과목코드'].apply(lambda x:str(x).zfill(2))"
   ]
  },
  {
   "cell_type": "code",
   "execution_count": 16,
   "metadata": {
    "colab": {
     "base_uri": "https://localhost:8080/",
     "height": 81
    },
    "executionInfo": {
     "elapsed": 4,
     "status": "ok",
     "timestamp": 1698298967050,
     "user": {
      "displayName": "안윤경",
      "userId": "08326209251813559422"
     },
     "user_tz": -540
    },
    "id": "hMmPutLoWL9A",
    "outputId": "a581d908-65ea-45f6-d631-814a89207f72"
   },
   "outputs": [
    {
     "data": {
      "text/html": [
       "<div>\n",
       "<style scoped>\n",
       "    .dataframe tbody tr th:only-of-type {\n",
       "        vertical-align: middle;\n",
       "    }\n",
       "\n",
       "    .dataframe tbody tr th {\n",
       "        vertical-align: top;\n",
       "    }\n",
       "\n",
       "    .dataframe thead th {\n",
       "        text-align: right;\n",
       "    }\n",
       "</style>\n",
       "<table border=\"1\" class=\"dataframe\">\n",
       "  <thead>\n",
       "    <tr style=\"text-align: right;\">\n",
       "      <th></th>\n",
       "      <th>성별코드</th>\n",
       "      <th>연령대코드</th>\n",
       "      <th>진료과목코드</th>\n",
       "      <th>주상병코드</th>\n",
       "      <th>부상병코드</th>\n",
       "      <th>진료과목코드_str</th>\n",
       "    </tr>\n",
       "  </thead>\n",
       "  <tbody>\n",
       "    <tr>\n",
       "      <th>0</th>\n",
       "      <td>1</td>\n",
       "      <td>17</td>\n",
       "      <td>1</td>\n",
       "      <td>I109</td>\n",
       "      <td>E785</td>\n",
       "      <td>01</td>\n",
       "    </tr>\n",
       "  </tbody>\n",
       "</table>\n",
       "</div>"
      ],
      "text/plain": [
       "   성별코드  연령대코드  진료과목코드 주상병코드 부상병코드 진료과목코드_str\n",
       "0     1     17       1  I109  E785         01"
      ]
     },
     "execution_count": 16,
     "metadata": {},
     "output_type": "execute_result"
    }
   ],
   "source": [
    "doctor_data_short.reset_index(drop=True, inplace=True) #①\n",
    "doctor_data_short.head(1)"
   ]
  },
  {
   "cell_type": "code",
   "execution_count": 17,
   "metadata": {
    "executionInfo": {
     "elapsed": 3887,
     "status": "ok",
     "timestamp": 1698298972852,
     "user": {
      "displayName": "안윤경",
      "userId": "08326209251813559422"
     },
     "user_tz": -540
    },
    "id": "Hmk06X58WVgo"
   },
   "outputs": [],
   "source": [
    "doctor_data_short = pd.merge(doctor_data_short, treat_code, how='left', on='진료과목코드_str')"
   ]
  },
  {
   "cell_type": "code",
   "execution_count": 18,
   "metadata": {
    "colab": {
     "base_uri": "https://localhost:8080/",
     "height": 112
    },
    "executionInfo": {
     "elapsed": 605,
     "status": "ok",
     "timestamp": 1698298975604,
     "user": {
      "displayName": "안윤경",
      "userId": "08326209251813559422"
     },
     "user_tz": -540
    },
    "id": "_NKPlN5AhRpm",
    "outputId": "48fb7f5d-b2cd-4eaa-e5f9-0510891a2e95"
   },
   "outputs": [
    {
     "data": {
      "text/html": [
       "<div>\n",
       "<style scoped>\n",
       "    .dataframe tbody tr th:only-of-type {\n",
       "        vertical-align: middle;\n",
       "    }\n",
       "\n",
       "    .dataframe tbody tr th {\n",
       "        vertical-align: top;\n",
       "    }\n",
       "\n",
       "    .dataframe thead th {\n",
       "        text-align: right;\n",
       "    }\n",
       "</style>\n",
       "<table border=\"1\" class=\"dataframe\">\n",
       "  <thead>\n",
       "    <tr style=\"text-align: right;\">\n",
       "      <th></th>\n",
       "      <th>성별코드</th>\n",
       "      <th>연령대코드</th>\n",
       "      <th>진료과목코드</th>\n",
       "      <th>주상병코드</th>\n",
       "      <th>부상병코드</th>\n",
       "      <th>진료과목코드_str</th>\n",
       "      <th>진료과목</th>\n",
       "    </tr>\n",
       "  </thead>\n",
       "  <tbody>\n",
       "    <tr>\n",
       "      <th>0</th>\n",
       "      <td>1</td>\n",
       "      <td>17</td>\n",
       "      <td>1</td>\n",
       "      <td>I109</td>\n",
       "      <td>E785</td>\n",
       "      <td>01</td>\n",
       "      <td>내과</td>\n",
       "    </tr>\n",
       "    <tr>\n",
       "      <th>1</th>\n",
       "      <td>1</td>\n",
       "      <td>17</td>\n",
       "      <td>1</td>\n",
       "      <td>I109</td>\n",
       "      <td>E785</td>\n",
       "      <td>01</td>\n",
       "      <td>내과</td>\n",
       "    </tr>\n",
       "  </tbody>\n",
       "</table>\n",
       "</div>"
      ],
      "text/plain": [
       "   성별코드  연령대코드  진료과목코드 주상병코드 부상병코드 진료과목코드_str 진료과목\n",
       "0     1     17       1  I109  E785         01   내과\n",
       "1     1     17       1  I109  E785         01   내과"
      ]
     },
     "execution_count": 18,
     "metadata": {},
     "output_type": "execute_result"
    }
   ],
   "source": [
    "doctor_data_short.head(2)"
   ]
  },
  {
   "cell_type": "code",
   "execution_count": 19,
   "metadata": {
    "colab": {
     "base_uri": "https://localhost:8080/"
    },
    "executionInfo": {
     "elapsed": 1028,
     "status": "ok",
     "timestamp": 1698298978083,
     "user": {
      "displayName": "안윤경",
      "userId": "08326209251813559422"
     },
     "user_tz": -540
    },
    "id": "6AQwwZ8VWgkP",
    "outputId": "d4faa2f3-89b2-4b01-e1a7-c54577760a76"
   },
   "outputs": [
    {
     "name": "stdout",
     "output_type": "stream",
     "text": [
      "2020년 진료과목별 진료횟수 Top20\n"
     ]
    },
    {
     "data": {
      "text/plain": [
       "내과         3862137\n",
       "정형외과       2109860\n",
       "이비인후과       965156\n",
       "안과          830926\n",
       "피부과         625814\n",
       "외과          404613\n",
       "소아청소년과      399236\n",
       "산부인과        395229\n",
       "정신건강의학과     375525\n",
       "가정의학과       346533\n",
       "비뇨의학과       326217\n",
       "신경외과        263112\n",
       "신경과         235572\n",
       "마취통증의학과     199868\n",
       "재활의학과       155763\n",
       "응급의학과       100935\n",
       "일반의          47631\n",
       "흉부외과         30657\n",
       "영상의학과        17239\n",
       "성형외과         16529\n",
       "Name: 진료과목, dtype: int64"
      ]
     },
     "execution_count": 19,
     "metadata": {},
     "output_type": "execute_result"
    }
   ],
   "source": [
    "print(\"2020년 진료과목별 진료횟수 Top20\")\n",
    "doctor_data_short['진료과목'].value_counts()[:20]"
   ]
  },
  {
   "cell_type": "code",
   "execution_count": 20,
   "metadata": {
    "colab": {
     "base_uri": "https://localhost:8080/",
     "height": 868
    },
    "executionInfo": {
     "elapsed": 2121,
     "status": "ok",
     "timestamp": 1698298982959,
     "user": {
      "displayName": "안윤경",
      "userId": "08326209251813559422"
     },
     "user_tz": -540
    },
    "id": "vgncPRx4WxZr",
    "outputId": "2b21c0ac-2c83-446a-d612-e2e07d98bf3b"
   },
   "outputs": [
    {
     "data": {
      "text/plain": [
       "<BarContainer object of 32 artists>"
      ]
     },
     "execution_count": 20,
     "metadata": {},
     "output_type": "execute_result"
    },
    {
     "data": {
      "image/png": "[encoded data removed]",
      "text/plain": [
       "<Figure size 432x720 with 1 Axes>"
      ]
     },
     "metadata": {
      "image/png": {
       "height": 589,
       "width": 428
      },
      "needs_background": "light"
     },
     "output_type": "display_data"
    }
   ],
   "source": [
    "x_hospitals = list(doctor_data_short['진료과목'].value_counts().index) #①\n",
    "y_hos_values = doctor_data_short['진료과목'].value_counts().values #②\n",
    "\n",
    "plt.figure(figsize=(6, 10))\n",
    "plt.barh(x_hospitals, y_hos_values)"
   ]
  },
  {
   "cell_type": "code",
   "execution_count": 21,
   "metadata": {
    "colab": {
     "base_uri": "https://localhost:8080/",
     "height": 112
    },
    "executionInfo": {
     "elapsed": 1067,
     "status": "ok",
     "timestamp": 1698298406684,
     "user": {
      "displayName": "안윤경",
      "userId": "08326209251813559422"
     },
     "user_tz": -540
    },
    "id": "9zUNm_gHW1ZY",
    "outputId": "69364ab3-5d37-4623-c7ab-6d5bef2420fb"
   },
   "outputs": [
    {
     "data": {
      "text/html": [
       "<div>\n",
       "<style scoped>\n",
       "    .dataframe tbody tr th:only-of-type {\n",
       "        vertical-align: middle;\n",
       "    }\n",
       "\n",
       "    .dataframe tbody tr th {\n",
       "        vertical-align: top;\n",
       "    }\n",
       "\n",
       "    .dataframe thead th {\n",
       "        text-align: right;\n",
       "    }\n",
       "</style>\n",
       "<table border=\"1\" class=\"dataframe\">\n",
       "  <thead>\n",
       "    <tr style=\"text-align: right;\">\n",
       "      <th></th>\n",
       "      <th>상병기호</th>\n",
       "      <th>한글명</th>\n",
       "      <th>영문명</th>\n",
       "      <th>완전코드구분</th>\n",
       "      <th>주상병사용구분</th>\n",
       "      <th>법정감염병구분</th>\n",
       "      <th>성별구분</th>\n",
       "      <th>상한연령</th>\n",
       "      <th>하한연령</th>\n",
       "      <th>양한방구분</th>\n",
       "      <th>통계청 5차 정오 반영내역</th>\n",
       "    </tr>\n",
       "  </thead>\n",
       "  <tbody>\n",
       "    <tr>\n",
       "      <th>0</th>\n",
       "      <td>A00</td>\n",
       "      <td>콜레라</td>\n",
       "      <td>Cholera</td>\n",
       "      <td>N</td>\n",
       "      <td>NaN</td>\n",
       "      <td>제2급</td>\n",
       "      <td>NaN</td>\n",
       "      <td>NaN</td>\n",
       "      <td>NaN</td>\n",
       "      <td>양·한방 공통</td>\n",
       "      <td>NaN</td>\n",
       "    </tr>\n",
       "    <tr>\n",
       "      <th>1</th>\n",
       "      <td>A000</td>\n",
       "      <td>비브리오 콜레라 01 콜레라형균에 의한 콜레라</td>\n",
       "      <td>Cholera due to Vibrio cholerae 01, biovar chol...</td>\n",
       "      <td>NaN</td>\n",
       "      <td>NaN</td>\n",
       "      <td>제2급</td>\n",
       "      <td>NaN</td>\n",
       "      <td>NaN</td>\n",
       "      <td>NaN</td>\n",
       "      <td>양·한방 공통</td>\n",
       "      <td>NaN</td>\n",
       "    </tr>\n",
       "  </tbody>\n",
       "</table>\n",
       "</div>"
      ],
      "text/plain": [
       "   상병기호                        한글명  \\\n",
       "0   A00                        콜레라   \n",
       "1  A000  비브리오 콜레라 01 콜레라형균에 의한 콜레라   \n",
       "\n",
       "                                                 영문명 완전코드구분 주상병사용구분 법정감염병구분  \\\n",
       "0                                            Cholera      N     NaN     제2급   \n",
       "1  Cholera due to Vibrio cholerae 01, biovar chol...    NaN     NaN     제2급   \n",
       "\n",
       "  성별구분  상한연령  하한연령    양한방구분 통계청 5차 정오 반영내역  \n",
       "0  NaN   NaN   NaN  양·한방 공통            NaN  \n",
       "1  NaN   NaN   NaN  양·한방 공통            NaN  "
      ]
     },
     "execution_count": 21,
     "metadata": {},
     "output_type": "execute_result"
    }
   ],
   "source": [
    "# 건강보험심사평가원 파일 불러오기\n",
    "# 앞에서 드라이브 경로를 설정(본인의 환경에 맞게 수정)했으므로 data 폴더 경로는 추가하지 않습니다.\n",
    "\n",
    "disease_code = pd.read_csv (filepath + \"/건강보험심사평가원_상병마스터_20210101.csv\", encoding = 'cp949')\n",
    "disease_code.head(2)"
   ]
  },
  {
   "cell_type": "code",
   "execution_count": 22,
   "metadata": {
    "executionInfo": {
     "elapsed": 569,
     "status": "ok",
     "timestamp": 1698298414663,
     "user": {
      "displayName": "안윤경",
      "userId": "08326209251813559422"
     },
     "user_tz": -540
    },
    "id": "Ypst08SvXU5O"
   },
   "outputs": [],
   "source": [
    "disease_code = disease_code.iloc[:,:2] #①\n",
    "disease_code.rename(columns={\"상병기호\":\"주상병코드\"}, inplace=True)"
   ]
  },
  {
   "cell_type": "code",
   "execution_count": 23,
   "metadata": {
    "colab": {
     "base_uri": "https://localhost:8080/",
     "height": 112
    },
    "executionInfo": {
     "elapsed": 6,
     "status": "ok",
     "timestamp": 1698298415266,
     "user": {
      "displayName": "안윤경",
      "userId": "08326209251813559422"
     },
     "user_tz": -540
    },
    "id": "4cfYcUhHXbaY",
    "outputId": "13049fd6-40ba-40f3-9d8d-839476a0a60a"
   },
   "outputs": [
    {
     "data": {
      "text/html": [
       "<div>\n",
       "<style scoped>\n",
       "    .dataframe tbody tr th:only-of-type {\n",
       "        vertical-align: middle;\n",
       "    }\n",
       "\n",
       "    .dataframe tbody tr th {\n",
       "        vertical-align: top;\n",
       "    }\n",
       "\n",
       "    .dataframe thead th {\n",
       "        text-align: right;\n",
       "    }\n",
       "</style>\n",
       "<table border=\"1\" class=\"dataframe\">\n",
       "  <thead>\n",
       "    <tr style=\"text-align: right;\">\n",
       "      <th></th>\n",
       "      <th>주상병코드</th>\n",
       "      <th>한글명</th>\n",
       "    </tr>\n",
       "  </thead>\n",
       "  <tbody>\n",
       "    <tr>\n",
       "      <th>0</th>\n",
       "      <td>A00</td>\n",
       "      <td>콜레라</td>\n",
       "    </tr>\n",
       "    <tr>\n",
       "      <th>1</th>\n",
       "      <td>A000</td>\n",
       "      <td>비브리오 콜레라 01 콜레라형균에 의한 콜레라</td>\n",
       "    </tr>\n",
       "  </tbody>\n",
       "</table>\n",
       "</div>"
      ],
      "text/plain": [
       "  주상병코드                        한글명\n",
       "0   A00                        콜레라\n",
       "1  A000  비브리오 콜레라 01 콜레라형균에 의한 콜레라"
      ]
     },
     "execution_count": 23,
     "metadata": {},
     "output_type": "execute_result"
    }
   ],
   "source": [
    "disease_code.head(2)"
   ]
  },
  {
   "cell_type": "code",
   "execution_count": 24,
   "metadata": {
    "colab": {
     "base_uri": "https://localhost:8080/",
     "height": 81
    },
    "executionInfo": {
     "elapsed": 5,
     "status": "ok",
     "timestamp": 1698298415266,
     "user": {
      "displayName": "안윤경",
      "userId": "08326209251813559422"
     },
     "user_tz": -540
    },
    "id": "br6DX6CJXglj",
    "outputId": "3ab9808f-cee0-4753-eccc-c4173b9bcff3"
   },
   "outputs": [
    {
     "data": {
      "text/html": [
       "<div>\n",
       "<style scoped>\n",
       "    .dataframe tbody tr th:only-of-type {\n",
       "        vertical-align: middle;\n",
       "    }\n",
       "\n",
       "    .dataframe tbody tr th {\n",
       "        vertical-align: top;\n",
       "    }\n",
       "\n",
       "    .dataframe thead th {\n",
       "        text-align: right;\n",
       "    }\n",
       "</style>\n",
       "<table border=\"1\" class=\"dataframe\">\n",
       "  <thead>\n",
       "    <tr style=\"text-align: right;\">\n",
       "      <th></th>\n",
       "      <th>성별코드</th>\n",
       "      <th>연령대코드</th>\n",
       "      <th>진료과목코드</th>\n",
       "      <th>주상병코드</th>\n",
       "      <th>부상병코드</th>\n",
       "      <th>진료과목코드_str</th>\n",
       "      <th>진료과목</th>\n",
       "    </tr>\n",
       "  </thead>\n",
       "  <tbody>\n",
       "    <tr>\n",
       "      <th>0</th>\n",
       "      <td>1</td>\n",
       "      <td>17</td>\n",
       "      <td>1</td>\n",
       "      <td>I109</td>\n",
       "      <td>E785</td>\n",
       "      <td>01</td>\n",
       "      <td>내과</td>\n",
       "    </tr>\n",
       "  </tbody>\n",
       "</table>\n",
       "</div>"
      ],
      "text/plain": [
       "   성별코드  연령대코드  진료과목코드 주상병코드 부상병코드 진료과목코드_str 진료과목\n",
       "0     1     17       1  I109  E785         01   내과"
      ]
     },
     "execution_count": 24,
     "metadata": {},
     "output_type": "execute_result"
    }
   ],
   "source": [
    "doctor_data_short.head(1)"
   ]
  },
  {
   "cell_type": "code",
   "execution_count": 25,
   "metadata": {
    "executionInfo": {
     "elapsed": 15647,
     "status": "ok",
     "timestamp": 1698298430909,
     "user": {
      "displayName": "안윤경",
      "userId": "08326209251813559422"
     },
     "user_tz": -540
    },
    "id": "ydJW0hR5Xnt5"
   },
   "outputs": [],
   "source": [
    "doctor_data_short = pd.merge(doctor_data_short, disease_code, on='주상병코드', how='left')"
   ]
  },
  {
   "cell_type": "code",
   "execution_count": 26,
   "metadata": {
    "colab": {
     "base_uri": "https://localhost:8080/",
     "height": 112
    },
    "executionInfo": {
     "elapsed": 4,
     "status": "ok",
     "timestamp": 1698298430909,
     "user": {
      "displayName": "안윤경",
      "userId": "08326209251813559422"
     },
     "user_tz": -540
    },
    "id": "HFwOVfQal8DH",
    "outputId": "bdeb3dab-f7ed-4d70-d18a-8a1370a09f70"
   },
   "outputs": [
    {
     "data": {
      "text/html": [
       "<div>\n",
       "<style scoped>\n",
       "    .dataframe tbody tr th:only-of-type {\n",
       "        vertical-align: middle;\n",
       "    }\n",
       "\n",
       "    .dataframe tbody tr th {\n",
       "        vertical-align: top;\n",
       "    }\n",
       "\n",
       "    .dataframe thead th {\n",
       "        text-align: right;\n",
       "    }\n",
       "</style>\n",
       "<table border=\"1\" class=\"dataframe\">\n",
       "  <thead>\n",
       "    <tr style=\"text-align: right;\">\n",
       "      <th></th>\n",
       "      <th>성별코드</th>\n",
       "      <th>연령대코드</th>\n",
       "      <th>진료과목코드</th>\n",
       "      <th>주상병코드</th>\n",
       "      <th>부상병코드</th>\n",
       "      <th>진료과목코드_str</th>\n",
       "      <th>진료과목</th>\n",
       "      <th>한글명</th>\n",
       "    </tr>\n",
       "  </thead>\n",
       "  <tbody>\n",
       "    <tr>\n",
       "      <th>0</th>\n",
       "      <td>1</td>\n",
       "      <td>17</td>\n",
       "      <td>1</td>\n",
       "      <td>I109</td>\n",
       "      <td>E785</td>\n",
       "      <td>01</td>\n",
       "      <td>내과</td>\n",
       "      <td>기타 및 상세불명의 원발성 고혈압</td>\n",
       "    </tr>\n",
       "    <tr>\n",
       "      <th>1</th>\n",
       "      <td>1</td>\n",
       "      <td>17</td>\n",
       "      <td>1</td>\n",
       "      <td>I109</td>\n",
       "      <td>E785</td>\n",
       "      <td>01</td>\n",
       "      <td>내과</td>\n",
       "      <td>고혈압(동맥성)(본태성)(원발성)(전신)</td>\n",
       "    </tr>\n",
       "  </tbody>\n",
       "</table>\n",
       "</div>"
      ],
      "text/plain": [
       "   성별코드  연령대코드  진료과목코드 주상병코드 부상병코드 진료과목코드_str 진료과목                     한글명\n",
       "0     1     17       1  I109  E785         01   내과      기타 및 상세불명의 원발성 고혈압\n",
       "1     1     17       1  I109  E785         01   내과  고혈압(동맥성)(본태성)(원발성)(전신)"
      ]
     },
     "execution_count": 26,
     "metadata": {},
     "output_type": "execute_result"
    }
   ],
   "source": [
    "doctor_data_short.head(2)"
   ]
  },
  {
   "cell_type": "code",
   "execution_count": 27,
   "metadata": {
    "executionInfo": {
     "elapsed": 3,
     "status": "ok",
     "timestamp": 1698298430909,
     "user": {
      "displayName": "안윤경",
      "userId": "08326209251813559422"
     },
     "user_tz": -540
    },
    "id": "ATTmXhxoYJAE"
   },
   "outputs": [],
   "source": [
    "def findSex(num):\n",
    "    \"\"\"성별코드를 해석하는 함수\"\"\"\n",
    "    if num==1:\n",
    "        return \"남\"\n",
    "    else:\n",
    "        return \"여\"\n",
    "\n",
    "def ageCode(num):\n",
    "    \"\"\"연령대 분류하는 함수\"\"\"\n",
    "    if (num == 1) or (num == 2):\n",
    "        return \"9세미만\"\n",
    "    elif (num == 3) or (num == 4):\n",
    "        return \"10대\"\n",
    "    elif (num == 5) or (num == 6):\n",
    "        return \"20대\"\n",
    "    elif (num == 7) or (num == 8):\n",
    "        return \"30대\"\n",
    "    elif (num == 9) or (num == 10):\n",
    "        return \"40대\"\n",
    "    elif (num == 11) or (num == 12):\n",
    "        return \"50대\"\n",
    "    elif (num == 13) or (num == 14):\n",
    "        return \"60대\"\n",
    "    elif (num == 15) or (num == 16):\n",
    "        return \"70대\"\n",
    "    elif num == 17:\n",
    "        return \"80대\"\n",
    "    else:\n",
    "        return \"80대이상\"\n"
   ]
  },
  {
   "cell_type": "code",
   "execution_count": 28,
   "metadata": {
    "colab": {
     "base_uri": "https://localhost:8080/",
     "height": 143
    },
    "executionInfo": {
     "elapsed": 27337,
     "status": "ok",
     "timestamp": 1698298503632,
     "user": {
      "displayName": "안윤경",
      "userId": "08326209251813559422"
     },
     "user_tz": -540
    },
    "id": "HjWhdLRDYSiR",
    "outputId": "a6ad92f8-a428-414f-ba4a-91d5d1b1437c"
   },
   "outputs": [
    {
     "data": {
      "text/html": [
       "<div>\n",
       "<style scoped>\n",
       "    .dataframe tbody tr th:only-of-type {\n",
       "        vertical-align: middle;\n",
       "    }\n",
       "\n",
       "    .dataframe tbody tr th {\n",
       "        vertical-align: top;\n",
       "    }\n",
       "\n",
       "    .dataframe thead th {\n",
       "        text-align: right;\n",
       "    }\n",
       "</style>\n",
       "<table border=\"1\" class=\"dataframe\">\n",
       "  <thead>\n",
       "    <tr style=\"text-align: right;\">\n",
       "      <th></th>\n",
       "      <th>성별코드</th>\n",
       "      <th>연령대코드</th>\n",
       "      <th>진료과목코드</th>\n",
       "      <th>주상병코드</th>\n",
       "      <th>부상병코드</th>\n",
       "      <th>진료과목코드_str</th>\n",
       "      <th>진료과목</th>\n",
       "      <th>한글명</th>\n",
       "      <th>성별</th>\n",
       "      <th>연령대</th>\n",
       "    </tr>\n",
       "  </thead>\n",
       "  <tbody>\n",
       "    <tr>\n",
       "      <th>0</th>\n",
       "      <td>1</td>\n",
       "      <td>17</td>\n",
       "      <td>1</td>\n",
       "      <td>I109</td>\n",
       "      <td>E785</td>\n",
       "      <td>01</td>\n",
       "      <td>내과</td>\n",
       "      <td>기타 및 상세불명의 원발성 고혈압</td>\n",
       "      <td>남</td>\n",
       "      <td>80대</td>\n",
       "    </tr>\n",
       "    <tr>\n",
       "      <th>1</th>\n",
       "      <td>1</td>\n",
       "      <td>17</td>\n",
       "      <td>1</td>\n",
       "      <td>I109</td>\n",
       "      <td>E785</td>\n",
       "      <td>01</td>\n",
       "      <td>내과</td>\n",
       "      <td>고혈압(동맥성)(본태성)(원발성)(전신)</td>\n",
       "      <td>남</td>\n",
       "      <td>80대</td>\n",
       "    </tr>\n",
       "    <tr>\n",
       "      <th>2</th>\n",
       "      <td>1</td>\n",
       "      <td>17</td>\n",
       "      <td>1</td>\n",
       "      <td>I109</td>\n",
       "      <td>E785</td>\n",
       "      <td>01</td>\n",
       "      <td>내과</td>\n",
       "      <td>기타 및 상세불명의 원발성 고혈압</td>\n",
       "      <td>남</td>\n",
       "      <td>80대</td>\n",
       "    </tr>\n",
       "  </tbody>\n",
       "</table>\n",
       "</div>"
      ],
      "text/plain": [
       "   성별코드  연령대코드  진료과목코드 주상병코드 부상병코드 진료과목코드_str 진료과목                     한글명 성별  \\\n",
       "0     1     17       1  I109  E785         01   내과      기타 및 상세불명의 원발성 고혈압  남   \n",
       "1     1     17       1  I109  E785         01   내과  고혈압(동맥성)(본태성)(원발성)(전신)  남   \n",
       "2     1     17       1  I109  E785         01   내과      기타 및 상세불명의 원발성 고혈압  남   \n",
       "\n",
       "   연령대  \n",
       "0  80대  \n",
       "1  80대  \n",
       "2  80대  "
      ]
     },
     "execution_count": 28,
     "metadata": {},
     "output_type": "execute_result"
    }
   ],
   "source": [
    "doctor_data_short['성별']=doctor_data_short['성별코드'].apply(lambda x:findSex(num=x)) #①\n",
    "doctor_data_short['연령대']=doctor_data_short['연령대코드'].apply(lambda x:ageCode(num=x))\n",
    "doctor_data_short.head(3)"
   ]
  },
  {
   "cell_type": "code",
   "execution_count": 29,
   "metadata": {
    "executionInfo": {
     "elapsed": 180061,
     "status": "ok",
     "timestamp": 1698298822187,
     "user": {
      "displayName": "안윤경",
      "userId": "08326209251813559422"
     },
     "user_tz": -540
    },
    "id": "wOO_CTL8YWbi"
   },
   "outputs": [],
   "source": [
    "# 2020년 진료정보 파일 저장하기\n",
    "# 앞에서 드라이브 경로를 설정(본인의 환경에 맞게 수정)했으므로 data 폴더 경로는 추가하지 않습니다.\n",
    "\n",
    "doctor_data_short.to_csv(filepath + \"/2020년_진료정보.csv\", index=False)"
   ]
  }
 ],
 "metadata": {
  "colab": {
   "provenance": [
    {
     "file_id": "1hPX1-0FFcvbc6Pd4uG9Fwm_GkDM3ZXYy",
     "timestamp": 1698298995581
    }
   ]
  },
  "kernelspec": {
   "display_name": "Python 3 (ipykernel)",
   "language": "python",
   "name": "python3"
  },
  "language_info": {
   "codemirror_mode": {
    "name": "ipython",
    "version": 3
   },
   "file_extension": ".py",
   "mimetype": "text/x-python",
   "name": "python",
   "nbconvert_exporter": "python",
   "pygments_lexer": "ipython3",
   "version": "3.11.5"
  }
 },
 "nbformat": 4,
 "nbformat_minor": 1
}
